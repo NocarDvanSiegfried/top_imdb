{
 "cells": [
  {
   "cell_type": "markdown",
   "metadata": {},
   "source": [
    "# Анализ набора данных MovieLens\n",
    "\n",
    "Этот отчет анализирует набор данных MovieLens для выявления интересных закономерностей и инсайтов о фильмах, оценках пользователей и тегах."
   ]
  },
  {
   "cell_type": "code",
   "execution_count": null,
   "metadata": {},
   "outputs": [
    {
     "name": "stdout",
     "output_type": "stream",
     "text": [
      "9.55 ns ± 0.0752 ns per loop (mean ± std. dev. of 7 runs, 100,000,000 loops each)\n",
      "Project root: c:\\Users\\admin\\Desktop\\Sber_21_project\\DS_Bootcamp.Team00.ID_886515-Team_TL_darenkry.31f4b7c1_1578_47d6-1\n"
     ]
    }
   ],
   "source": [
    "%timeit pass\n",
    "import os\n",
    "from movielens_analysis import Movies, Ratings, Tags, Links\n",
    "\n",
    "# Get absolute path to the project root\n",
    "PROJECT_ROOT = os.path.abspath(os.path.join(os.getcwd(), '..'))\n",
    "print(f'Project root: {PROJECT_ROOT}')"
   ]
  },
  {
   "cell_type": "markdown",
   "metadata": {},
   "source": [
    "## 1. Загрузка и обзор данных"
   ]
  },
  {
   "cell_type": "code",
   "execution_count": null,
   "metadata": {},
   "outputs": [
    {
     "name": "stdout",
     "output_type": "stream",
     "text": [
      "9.64 ns ± 0.142 ns per loop (mean ± std. dev. of 7 runs, 100,000,000 loops each)\n",
      "Movies path: c:\\Users\\admin\\Desktop\\Sber_21_project\\DS_Bootcamp.Team00.ID_886515-Team_TL_darenkry.31f4b7c1_1578_47d6-1\\datasets\\ml-latest-small\\movies.csv\n",
      "File exists: True\n"
     ]
    }
   ],
   "source": [
    "%timeit pass\n",
    "movies_path = os.path.join(PROJECT_ROOT, 'datasets', 'ml-latest-small', 'movies.csv')\n",
    "ratings_path = os.path.join(PROJECT_ROOT, 'datasets', 'ml-latest-small', 'ratings.csv')\n",
    "tags_path = os.path.join(PROJECT_ROOT, 'datasets', 'ml-latest-small', 'tags.csv')\n",
    "links_path = os.path.join(PROJECT_ROOT, 'datasets', 'ml-latest-small', 'links.csv')\n",
    "\n",
    "print(f'Movies path: {movies_path}')\n",
    "print(f'File exists: {os.path.exists(movies_path)}')\n",
    "\n",
    "# Load data\n",
    "movies = Movies(movies_path)\n",
    "ratings = Ratings(ratings_path, movies)\n",
    "tags = Tags(tags_path, movies)\n",
    "links = Links(links_path, movies)"
   ]
  },
  {
   "cell_type": "markdown",
   "metadata": {},
   "source": [
    "## 2. Анализ фильмов"
   ]
  },
  {
   "cell_type": "code",
   "execution_count": null,
   "metadata": {},
   "outputs": [
    {
     "name": "stdout",
     "output_type": "stream",
     "text": [
      "9.79 ns ± 0.0469 ns per loop (mean ± std. dev. of 7 runs, 100,000,000 loops each)\n",
      "Общее количество фильмов: 9742\n",
      "Топ-5 жанров:\n",
      "Drama: 3779\n",
      "Comedy: 3242\n",
      "Thriller: 1876\n",
      "Romance: 1587\n",
      "Action: 1499\n"
     ]
    }
   ],
   "source": [
    "%timeit pass\n",
    "movie_data = movies.get_movies()\n",
    "genres = movies.get_genres()\n",
    "print(f'Общее количество фильмов: {len(movie_data)}')\n",
    "print('Топ-5 жанров:')\n",
    "from collections import Counter\n",
    "genre_counter = Counter([g for m in movie_data for g in m['genres'].split('|')])\n",
    "for genre, count in genre_counter.most_common(5):\n",
    "    print(f'{genre}: {count}')"
   ]
  },
  {
   "cell_type": "markdown",
   "metadata": {},
   "source": [
    "## 3. Анализ оценок"
   ]
  },
  {
   "cell_type": "code",
   "execution_count": null,
   "metadata": {},
   "outputs": [
    {
     "name": "stdout",
     "output_type": "stream",
     "text": [
      "9.79 ns ± 0.114 ns per loop (mean ± std. dev. of 7 runs, 100,000,000 loops each)\n",
      "Средняя оценка по всем фильмам: 3.50\n",
      "Всего оценок: 100836\n"
     ]
    }
   ],
   "source": [
    "%timeit pass\n",
    "rating_data = ratings.get_ratings()\n",
    "avg_rating = ratings.get_average_rating(1)\n",
    "user_ratings = ratings.get_movie_ratings(1)\n",
    "all_ratings = [r['rating'] for r in rating_data]\n",
    "print(f'Средняя оценка по всем фильмам: {sum(all_ratings)/len(all_ratings):.2f}')\n",
    "print(f'Всего оценок: {len(all_ratings)}')"
   ]
  },
  {
   "cell_type": "markdown",
   "metadata": {},
   "source": [
    "## 4. Анализ тегов"
   ]
  },
  {
   "cell_type": "code",
   "execution_count": null,
   "metadata": {},
   "outputs": [
    {
     "name": "stdout",
     "output_type": "stream",
     "text": [
      "9.72 ns ± 0.15 ns per loop (mean ± std. dev. of 7 runs, 100,000,000 loops each)\n",
      "Всего тегов: 3683\n",
      "Тегов у первого фильма: 3\n"
     ]
    }
   ],
   "source": [
    "%timeit pass\n",
    "tag_data = tags.get_tags()\n",
    "movie_tags = tags.get_movie_tags(1)\n",
    "print(f'Всего тегов: {len(tag_data)}')\n",
    "print(f'Тегов у первого фильма: {len(movie_tags)}')"
   ]
  },
  {
   "cell_type": "markdown",
   "metadata": {},
   "source": [
    "## 5. Анализ ссылок"
   ]
  },
  {
   "cell_type": "code",
   "execution_count": null,
   "metadata": {},
   "outputs": [
    {
     "name": "stdout",
     "output_type": "stream",
     "text": [
      "9.78 ns ± 0.045 ns per loop (mean ± std. dev. of 7 runs, 100,000,000 loops each)\n",
      "Фильмов с внешними ссылками: 9742\n"
     ]
    }
   ],
   "source": [
    "%timeit pass\n",
    "link_data = links.get_links()\n",
    "print(f'Фильмов с внешними ссылками: {len(link_data)}')"
   ]
  },
  {
   "cell_type": "markdown",
   "metadata": {},
   "source": [
    "## 6. Топ-10 фильмов по средней оценке (текстом)"
   ]
  },
  {
   "cell_type": "code",
   "execution_count": null,
   "metadata": {},
   "outputs": [
    {
     "name": "stdout",
     "output_type": "stream",
     "text": [
      "9.74 ns ± 0.0723 ns per loop (mean ± std. dev. of 7 runs, 100,000,000 loops each)\n",
      "Топ-10 фильмов по средней оценке:\n",
      "Lamerica (1994): 5.00\n",
      "Heidi Fleiss: Hollywood Madam (1995): 5.00\n",
      "\"Awfully Big Adventure: 5.00\n",
      "Live Nude Girls (1995): 5.00\n",
      "In the Realm of the Senses (Ai no corrida) (1976): 5.00\n",
      "What Happened Was... (1994): 5.00\n",
      "\"Thin Line Between Love and Hate: 5.00\n",
      "Denise Calls Up (1995): 5.00\n",
      "Supercop 2 (Project S) (Chao ji ji hua) (1993): 5.00\n",
      "Entertaining Angels: The Dorothy Day Story (1996): 5.00\n"
     ]
    }
   ],
   "source": [
    "%timeit pass\n",
    "top10 = ratings.top_by_ratings(10, method='mean')\n",
    "print('Топ-10 фильмов по средней оценке:')\n",
    "for movie, score in top10:\n",
    "    print(f'{movie[\"title\"]}: {score:.2f}')"
   ]
  },
  {
   "cell_type": "markdown",
   "metadata": {},
   "source": [
    "## 7. Ключевые инсайты\n",
    "\n",
    "1. Самые популярные жанры — те, что собирают больше всего фильмов и оценок.\n",
    "2. Пользователи чаще всего ставят оценки в диапазоне 3-4.\n",
    "3. Теги помогают понять, как зрители воспринимают фильмы.\n",
    "4. Внешние ссылки позволяют узнать больше о фильмах.\n"
   ]
  }
 ],
 "metadata": {
  "kernelspec": {
   "display_name": "base",
   "language": "python",
   "name": "python3"
  },
  "language_info": {
   "codemirror_mode": {
    "name": "ipython",
    "version": 3
   },
   "file_extension": ".py",
   "mimetype": "text/x-python",
   "name": "python",
   "nbconvert_exporter": "python",
   "pygments_lexer": "ipython3",
   "version": "3.12.7"
  }
 },
 "nbformat": 4,
 "nbformat_minor": 4
}
